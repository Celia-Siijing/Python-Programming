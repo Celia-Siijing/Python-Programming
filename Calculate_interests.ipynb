{
 "cells": [
  {
   "cell_type": "markdown",
   "metadata": {},
   "source": [
    "So let's create a function that will allow us to know how much money a user will have in total after a certain number of years.\n",
    "\n",
    "The user should be able to call the function which will then ask for :\n",
    "\n",
    "The total amount he wishes to place\n",
    "The number of years he wants to invest his money for\n",
    "The rate of interest to which he is entitled\n",
    "Pay attention to the errors that the user may enter.\n",
    "\n",
    "If he enters a string of characters rather than a number, an error should be displayed.\n",
    "If the user enters negative numbers, an error should also be output.\n",
    "Finally, it is very likely that the user will write the interest rate as a percentage (e.g. 10%). Raise an error if this is the case, to prevent him from inputting a percentage.\n",
    "Finally, the program should only show one number with a maximum of two digits after the decimal point."
   ]
  },
  {
   "cell_type": "code",
   "execution_count": 51,
   "metadata": {},
   "outputs": [],
   "source": [
    "def future_amount():\n",
    "    try:\n",
    "        amount = float(input(\"How much money you wish to place ? \"))\n",
    "        print(amount)\n",
    "        if amount < 0:\n",
    "            print(\"Please enter a positive number >0\")\n",
    "        years = float(input(\"How many years you want to invest your money for ? \"))\n",
    "        if years < 0:\n",
    "            print(\"Please enter a positive number >0\")\n",
    "        print(years)\n",
    "        if rate_of_interest < 0:\n",
    "            print(\"Please enter a positive number >0\")\n",
    "        rate_of_interest = float(input(\"What is the rate of interest to you are entitled ?\"))\n",
    "        print(rate_of_interest)\n",
    "    \n",
    "    except ValueError:\n",
    "        print(\"Please enter a number\")\n",
    "    else:\n",
    "       # if amount < 0 or years < 0 or rate_of_interest < 0:\n",
    "            #print(\"Please enter a positive number >0\")\n",
    "        \n",
    "        savings = amount*((1 + rate_of_interest)**years)\n",
    "        print(\"The total amount of money you will have after you deposit {} at the end of {} years will be {:.2f}\".format(amount, years, savings))"
   ]
  },
  {
   "cell_type": "code",
   "execution_count": 53,
   "metadata": {},
   "outputs": [
    {
     "name": "stdout",
     "output_type": "stream",
     "text": [
      "Please enter a number\n"
     ]
    }
   ],
   "source": [
    "future_amount()\n"
   ]
  }
 ],
 "metadata": {
  "kernelspec": {
   "display_name": "Python 3",
   "language": "python",
   "name": "python3"
  },
  "language_info": {
   "codemirror_mode": {
    "name": "ipython",
    "version": 3
   },
   "file_extension": ".py",
   "mimetype": "text/x-python",
   "name": "python",
   "nbconvert_exporter": "python",
   "pygments_lexer": "ipython3",
   "version": "3.11.4"
  }
 },
 "nbformat": 4,
 "nbformat_minor": 2
}
