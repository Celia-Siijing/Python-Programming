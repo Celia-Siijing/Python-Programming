{
 "cells": [
  {
   "cell_type": "markdown",
   "metadata": {},
   "source": [
    "# Build a quizz"
   ]
  },
  {
   "cell_type": "markdown",
   "metadata": {},
   "source": [
    "##Rebuild your Quizz with Functions"
   ]
  },
  {
   "cell_type": "code",
   "execution_count": null,
   "metadata": {},
   "outputs": [],
   "source": [
    "Q_1 = \"What is the name of Harry’s pet owl?\"\n",
    "R_1 = \"Hedwig\"\n",
    "Q_2 = \"Who is Harry’s godfather?\"\n",
    "R_2 = \"Sirius Black\"\n",
    "Q_3 = \"What position does Harry play in Quidditch?\"\n",
    "R_3 = \"Seeker\""
   ]
  },
  {
   "cell_type": "code",
   "execution_count": 3,
   "metadata": {},
   "outputs": [
    {
     "name": "stdout",
     "output_type": "stream",
     "text": [
      "Sorry, wrong answer, you have 2 chances left\n",
      "Good answer\n",
      "Good answer\n",
      "Good answer\n",
      "Well done, you have win ! \n"
     ]
    }
   ],
   "source": [
    "def quiz(nb_chances_left, questions, right_answer):\n",
    "    if nb_chances_left > 0:\n",
    "        answer = input(questions).lower()\n",
    "        while answer != right_answer:\n",
    "            nb_chances_left = nb_chances_left - 1\n",
    "            print(\"Sorry, wrong answer, you have {} chances left\".format(nb_chances_left))\n",
    "            if nb_chances_left == 0:\n",
    "                print(\"Too bad, you lost the game !\")\n",
    "                break\n",
    "            answer = input(questions).lower()\n",
    "    print(\"Good answer\")\n",
    "    return nb_chances_left\n",
    "\n",
    "\n",
    "quiz_list = [\n",
    "    (\"What is the name of Harry’s pet owl?\", \"Hedwig\"),\n",
    "    (\"Who is Harry’s godfather?\", \"Sirius Black\"),\n",
    "    (\"What position does Harry play in Quidditch?\", \"Seeker\")\n",
    "]\n",
    "\n",
    "total_chances = 3\n",
    "for question, answer in quiz_list:\n",
    "    total_chances = quiz(total_chances, question, answer.lower())\n",
    "if total_chances > 0:\n",
    "    print(\"Well done, you have win ! \")\n"
   ]
  }
 ],
 "metadata": {
  "kernelspec": {
   "display_name": "base",
   "language": "python",
   "name": "python3"
  },
  "language_info": {
   "codemirror_mode": {
    "name": "ipython",
    "version": 3
   },
   "file_extension": ".py",
   "mimetype": "text/x-python",
   "name": "python",
   "nbconvert_exporter": "python",
   "pygments_lexer": "ipython3",
   "version": "3.11.4"
  }
 },
 "nbformat": 4,
 "nbformat_minor": 2
}
