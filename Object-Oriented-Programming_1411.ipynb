{
 "cells": [
  {
   "cell_type": "markdown",
   "metadata": {},
   "source": [
    "### Math oriented programming"
   ]
  },
  {
   "cell_type": "markdown",
   "metadata": {},
   "source": [
    "1. Create a class to be called \"math.\"\n",
    "2. This class will have no internal attributes, so you don't need to define an init()\n",
    "3. Create a method that will compute the square root of any number.\n",
    "4. Create a method that will calculate the average of any list of numbers.\n",
    "5. Create a method to find out if a number is even or odd.\n",
    "6. Finally, create a method that will give the total sum of a list of numbers."
   ]
  },
  {
   "cell_type": "code",
   "execution_count": 58,
   "metadata": {},
   "outputs": [],
   "source": [
    "class math:\n",
    "    def root_square(self, number):\n",
    "        return number**0.5\n",
    "    def ave(self, numbers):\n",
    "        sum = 0\n",
    "        len_of_numbers = 0\n",
    "        for number in numbers:\n",
    "            sum = sum + number\n",
    "            len_of_numbers = len_of_numbers + 1\n",
    "        return sum/len_of_numbers\n",
    "        \n",
    "    def parity(self, number):\n",
    "        if (number % 2) ==0:\n",
    "            print(\"{} is even\".format(number))\n",
    "        else:\n",
    "            print(\"{} is odd\".format(number))\n",
    "    \n",
    "    def sum(self, numbers):\n",
    "        sum = 0\n",
    "        for number in numbers:\n",
    "            sum = sum + number\n",
    "        return sum\n"
   ]
  },
  {
   "cell_type": "code",
   "execution_count": 59,
   "metadata": {},
   "outputs": [],
   "source": [
    "math= math()"
   ]
  },
  {
   "cell_type": "code",
   "execution_count": 24,
   "metadata": {},
   "outputs": [
    {
     "name": "stdout",
     "output_type": "stream",
     "text": [
      "the square root of 25 is 5.0\n"
     ]
    }
   ],
   "source": [
    "math.root_square(25)\n",
    "print(\"the square root of 25 is {}\".format(math.root_square(25)))"
   ]
  },
  {
   "cell_type": "code",
   "execution_count": 42,
   "metadata": {},
   "outputs": [
    {
     "name": "stdout",
     "output_type": "stream",
     "text": [
      "the average of 1,2,3,4,5 is 3.0\n"
     ]
    }
   ],
   "source": [
    "math.ave([1,2,3,4,5])\n",
    "print(\"the average of 1,2,3,4,5 is {}\".format(math.ave([1,2,3,4,5])))"
   ]
  },
  {
   "cell_type": "code",
   "execution_count": 52,
   "metadata": {},
   "outputs": [
    {
     "name": "stdout",
     "output_type": "stream",
     "text": [
      "10 is even\n"
     ]
    }
   ],
   "source": [
    "math.parity(10)"
   ]
  },
  {
   "cell_type": "code",
   "execution_count": 53,
   "metadata": {},
   "outputs": [
    {
     "name": "stdout",
     "output_type": "stream",
     "text": [
      "5 is odd\n"
     ]
    }
   ],
   "source": [
    "math.parity(5)"
   ]
  },
  {
   "cell_type": "code",
   "execution_count": 62,
   "metadata": {},
   "outputs": [
    {
     "name": "stdout",
     "output_type": "stream",
     "text": [
      "the sum of 10,20,30,40,50 is 150\n"
     ]
    }
   ],
   "source": [
    "math.sum([10,20,30,40,50])\n",
    "print(\"the sum of 10,20,30,40,50 is {}\".format(math.sum([10,20,30,40,50])))"
   ]
  },
  {
   "cell_type": "markdown",
   "metadata": {},
   "source": [
    "### Imputer"
   ]
  },
  {
   "cell_type": "code",
   "execution_count": 24,
   "metadata": {},
   "outputs": [],
   "source": [
    "class imputer:\n",
    "    # define a attribute 'list'\n",
    "    def __init__(self, list):\n",
    "        self.list = list\n",
    "\n",
    "    # define a method 'average'\n",
    "    def avg(self):\n",
    "        sum_list = 0 # create a variable to calculate the sum\n",
    "        list_none = [] # create a list of missing value, we don't know where they are yet\n",
    "\n",
    "        for i in range(len(self.list)):\n",
    "        # find the missing value and add them to the list of missing value\n",
    "            if self.list[i] is None:\n",
    "                list_none.append(i)\n",
    "            else:\n",
    "            # if there is a value, then calculate the sum of them\n",
    "                sum_list = sum_list + self.list[i]\n",
    "        \n",
    "        # replace the missing value with the average\n",
    "        for i in list_none:\n",
    "            self.list[i] = sum_list/(len(self.list)-len(list_none))\n",
    "        return self.list\n",
    "\n",
    "# Optional: Median\n",
    "    def median(self):\n",
    "        list_none = [] # create a list of missing value, we don't know where they are yet\n",
    "        list_value = []\n",
    "\n",
    "        for i in range(len(self.list)):\n",
    "        # find the missing value and add them to the list of missing value\n",
    "            if self.list[i] is None:\n",
    "                list_none.append(i)\n",
    "            else:\n",
    "            # if there is a value, then add them to the list of value\n",
    "                list_value.append(i)\n",
    "\n",
    "        length = len(list_value)\n",
    "        sorted_list_value = sorted(list_value)\n",
    "\n",
    "        if length % 2 == 0: # if it is a even list, then the median is the average of 2 middle numbers\n",
    "            middle_1 = sorted_list_value[length//2]\n",
    "            middle_2 = sorted_list_value[length//2 - 1]\n",
    "            median = (middle_1 + middle_2) / 2\n",
    "        else: \n",
    "            median = sorted_list_value[(length-1)// 2] # if it is a odd list, then the median is the middle number\n",
    "\n",
    "         # replace the missing value with the median\n",
    "        for i in list_none:\n",
    "            self.list[i] = self.list[median]\n",
    "        return self.list\n",
    "        "
   ]
  },
  {
   "cell_type": "code",
   "execution_count": 12,
   "metadata": {},
   "outputs": [
    {
     "name": "stdout",
     "output_type": "stream",
     "text": [
      "here is my initial list [None, 2, 4, 6, None]\n"
     ]
    }
   ],
   "source": [
    "# Define my initial list for Average method\n",
    "initial_list = [None, 2, 4, 6,None]\n",
    "print(\"here is my initial list {}\".format(initial_list))"
   ]
  },
  {
   "cell_type": "code",
   "execution_count": 70,
   "metadata": {},
   "outputs": [
    {
     "name": "stdout",
     "output_type": "stream",
     "text": [
      "Here is my list after imputer [4.0, 2, 4, 6, 4.0]\n"
     ]
    }
   ],
   "source": [
    "# creat an instance for the initial list\n",
    "imputer = imputer(initial_list)\n",
    "# then call the method average\n",
    "imputer.avg()\n",
    "print(\"Here is my list after imputer {}\".format(imputer.avg()))"
   ]
  },
  {
   "cell_type": "code",
   "execution_count": 26,
   "metadata": {},
   "outputs": [],
   "source": [
    "#Define my median list\n",
    "median_list = [None, 3, 5, 7, 9, 11, None]"
   ]
  },
  {
   "cell_type": "code",
   "execution_count": 27,
   "metadata": {},
   "outputs": [],
   "source": [
    "#create an instance for the median method\n",
    "imputer2 = imputer(median_list)"
   ]
  },
  {
   "cell_type": "code",
   "execution_count": 28,
   "metadata": {},
   "outputs": [
    {
     "data": {
      "text/plain": [
       "[7, 3, 5, 7, 9, 11, 7]"
      ]
     },
     "execution_count": 28,
     "metadata": {},
     "output_type": "execute_result"
    }
   ],
   "source": [
    "# then call the method median\n",
    "imputer2.median()"
   ]
  },
  {
   "cell_type": "code",
   "execution_count": null,
   "metadata": {},
   "outputs": [],
   "source": []
  }
 ],
 "metadata": {
  "kernelspec": {
   "display_name": "base",
   "language": "python",
   "name": "python3"
  },
  "language_info": {
   "codemirror_mode": {
    "name": "ipython",
    "version": 3
   },
   "file_extension": ".py",
   "mimetype": "text/x-python",
   "name": "python",
   "nbconvert_exporter": "python",
   "pygments_lexer": "ipython3",
   "version": "3.11.4"
  }
 },
 "nbformat": 4,
 "nbformat_minor": 2
}
